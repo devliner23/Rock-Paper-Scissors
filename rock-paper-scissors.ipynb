{
 "cells": [
  {
   "cell_type": "markdown",
   "id": "9b3ab4e4",
   "metadata": {},
   "source": [
    "For this project, you will individually create a program that has a \"player\" and a \"computer\" advisary. The computer should randomly choose it's decision based on a list of actions it can take (\"Rock\", \"Paper\" or \"Scissors\"). The player should then have a chance to input their decision. If player and computer choose the same decision then display (\"Game Tied\"), If the player chooses \"Rock\" and the computer chooses \"Paper\" display (\"You lose\"), if the player chooses \"Scissors\" and the computer chooses \"Rock\" display (\"You Lose\") and if the player chooses \"Paper\" and the computer chooses \"Scissors\" then display (\"You lose\") -- Vice versa for other descisions.\n",
    "\n",
    "Continue to ask the player for their input until they say \"I quit\", at which time the game will then end and display (\"Thank you for playing\").\n",
    "\n",
    "In this project, you will need to use the random.randint function to enable to computer to make a random decision. Full documentation on the use of this function is attached in a link to this assignment.\n"
   ]
  },
  {
   "cell_type": "code",
   "execution_count": 2,
   "id": "9661fe4d",
   "metadata": {},
   "outputs": [
    {
     "name": "stdout",
     "output_type": "stream",
     "text": [
      "\n",
      "Rock, Paper or Scissors? (Type \"quit\" to exit)\n",
      "rock\n",
      "You: Rock Opponent: Rock\n",
      "You tied\n",
      "\n",
      "Rock, Paper or Scissors? (Type \"quit\" to exit)\n",
      "paper\n",
      "You: Paper Opponent: Scissors\n",
      "You lose\n",
      "\n",
      "Rock, Paper or Scissors? (Type \"quit\" to exit)\n",
      "scissors\n",
      "You: Scissors Opponent: Rock\n",
      "You lose\n",
      "\n",
      "Rock, Paper or Scissors? (Type \"quit\" to exit)\n",
      "quit\n"
     ]
    }
   ],
   "source": [
    "from random import randint\n",
    "\n",
    "class Trio:\n",
    "    def __init__(self):\n",
    "        self.rock = 0\n",
    "        self.paper = 1\n",
    "        self.scissors = 2\n",
    "        \n",
    "    def Game(self):\n",
    "        while True: \n",
    "            answer = input('\\nRock, Paper or Scissors? (Type \"quit\" to exit)\\n')\n",
    "            comp_answer = Computer().get_random()\n",
    "            if comp_answer == 0 and answer.lower() != 'quit':\n",
    "                print(f'You: {answer.title()} Opponent: Rock')\n",
    "            elif comp_answer == 1 and answer.lower() != 'quit':\n",
    "                print(f'You: {answer.title()} Opponent: Paper')\n",
    "            elif comp_answer == 2 and answer.lower() != 'quit':\n",
    "                print(f'You: {answer.title()} Opponent: Scissors')\n",
    "            \n",
    "            if answer.lower() == 'quit':\n",
    "                break\n",
    "            if answer.lower() == 'rock':\n",
    "                new_answer = 0\n",
    "                if comp_answer == new_answer:\n",
    "                    print('You tied')\n",
    "                elif comp_answer - 2 == new_answer:\n",
    "                    print('You lose')\n",
    "                elif comp_answer - 1 == new_answer:\n",
    "                    print('You win!')\n",
    "            elif answer.lower() == 'paper':\n",
    "                new_answer = 1\n",
    "                if comp_answer == new_answer:\n",
    "                    print('You tied')\n",
    "                elif comp_answer - 1 == new_answer:\n",
    "                    print('You lose')\n",
    "                elif comp_answer + 1 == new_answer:\n",
    "                    print('You win!')\n",
    "            elif answer.lower() == 'scissors':\n",
    "                new_answer = 2\n",
    "                if comp_answer == new_answer:\n",
    "                    print('You tied')\n",
    "                elif comp_answer + 2 == new_answer:\n",
    "                    print('You lose')\n",
    "                elif comp_answer + 1 == new_answer:\n",
    "                    print('You win!') \n",
    "                \n",
    "            \n",
    "            \n",
    "                         \n",
    "class Computer:\n",
    "    def get_random(self):\n",
    "        return randint(0, 2)\n",
    "\n",
    "        \n",
    "hands = Trio()\n",
    "hands.Game()\n",
    "\n"
   ]
  }
 ],
 "metadata": {
  "kernelspec": {
   "display_name": "Python 3 (ipykernel)",
   "language": "python",
   "name": "python3"
  },
  "language_info": {
   "codemirror_mode": {
    "name": "ipython",
    "version": 3
   },
   "file_extension": ".py",
   "mimetype": "text/x-python",
   "name": "python",
   "nbconvert_exporter": "python",
   "pygments_lexer": "ipython3",
   "version": "3.9.13"
  }
 },
 "nbformat": 4,
 "nbformat_minor": 5
}
